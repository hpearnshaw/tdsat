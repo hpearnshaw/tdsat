{
 "cells": [
  {
   "cell_type": "code",
   "execution_count": 17,
   "metadata": {},
   "outputs": [
    {
     "name": "stdout",
     "output_type": "stream",
     "text": [
      "Telescope Configuration 11\n",
      "Name: Small Focal Plane CMOS\n",
      "Entrance Pupil diameter 26.0 cm\n",
      "Optical Efficiency 0.7893639053254439\n",
      "PSF FWHM 4.288 arcsec\n",
      "Pixel size 6.4 arcsec\n",
      "Effective Aperture 23.1 cm\n",
      "Effective Area 419.09631397051237 cm2\n",
      "Effective PSF FWHM 6.6623527375845235 arcsec\n",
      "Sky background rate: 0.030369732491096913 1 / s, 0.2478588509265617 1 / s\n"
     ]
    }
   ],
   "source": [
    "import numpy as np\n",
    "import matplotlib.pyplot as plt\n",
    "from astropy import units as ur\n",
    "from astropy import constants as const\n",
    "from astropy.table import Table\n",
    "from bbmag import bb_abmag, bb_abmag_fluence\n",
    "from image_utils import construct_image, find, gaussian_psf\n",
    "from tdsat_sensitivity import bgd_sky_qe_rate\n",
    "from tdsat_telescope import load_telescope_parameters\n",
    "\n",
    "# Set up telescope parameters\n",
    "diameter, qe, psf_fwhm, pixel_size, efficiency = load_telescope_parameters(11)\n",
    "duet_band1 = [193,233] * ur.nm\n",
    "duet_band2 = [260,320] * ur.nm\n",
    "read_noise = 3.\n",
    "\n",
    "point_drift = 1 * ur.arcsec # To be added to the PSF in quadrature\n",
    "point_jitter = 5 * ur.arcsec\n",
    "psf_fwhm = (psf_fwhm**2 + point_drift**2 + point_jitter**2)**0.5 # [4,6,10] * ur.arcsec  \n",
    "print('Effective PSF FWHM {}'.format(psf_fwhm))\n",
    "\n",
    "# Stuff from DUET AB Mag Limit On-Axis\n",
    "trans_eff = (0.975)**8\n",
    "area = np.pi * (diameter*0.5)**2\n",
    "area_onaxis = np.pi * (0.5*24.2*ur.cm)**2\n",
    "efficiency = area_onaxis / area\n",
    "\n",
    "# Define image simulation parameters\n",
    "exposure = 300 * ur.s\n",
    "frame = np.array((20,20)) # Dimensions of the image I'm simulating in DUET pixels (20x20 ~ 2x2 arcmin)\n",
    "\n",
    "# Calculate sky background\n",
    "sky_bg1 = bgd_sky_qe_rate(low_zodi=True,band=duet_band1,qe_band=1,diameter=diameter,\\\n",
    "                            pixel_size=pixel_size,real_red=True)\n",
    "sky_rate1 = trans_eff * efficiency * sky_bg1\n",
    "sky_bg2 = bgd_sky_qe_rate(low_zodi=True,band=duet_band2,qe_band=2,diameter=diameter,\\\n",
    "                            pixel_size=pixel_size,real_red=True)\n",
    "sky_rate2 = trans_eff * efficiency * sky_bg2\n",
    "print(\"Sky background rate: {}, {}\".format(sky_rate1,sky_rate2))\n",
    "\n",
    "# Background galaxy\n",
    "galaxy = 'spiral'\n",
    "gal_params = None"
   ]
  },
  {
   "cell_type": "code",
   "execution_count": 29,
   "metadata": {},
   "outputs": [
    {
     "data": {
      "text/plain": [
       "<matplotlib.colorbar.Colorbar at 0x1c154e3518>"
      ]
     },
     "execution_count": 29,
     "metadata": {},
     "output_type": "execute_result"
    },
    {
     "data": {
      "image/png": "[encoded data removed]",
      "text/plain": [
       "<Figure size 1152x432 with 4 Axes>"
      ]
     },
     "metadata": {},
     "output_type": "display_data"
    }
   ],
   "source": [
    "# Simulate reference images, without source, 5 exposures\n",
    "# Currently a perfect co-add\n",
    "n_exp = 5\n",
    "ref_image1 = construct_image(frame, pixel_size, exposure, psf_fwhm, read_noise, \\\n",
    "                            gal_type=galaxy, sky_rate=sky_rate1, n_exp=n_exp)\n",
    "ref_image_rate1 = ref_image1 / (n_exp * exposure.value)\n",
    "\n",
    "ref_image2 = construct_image(frame, pixel_size, exposure, psf_fwhm, read_noise, \\\n",
    "                            gal_type=galaxy, sky_rate=sky_rate2, n_exp=n_exp)\n",
    "ref_image_rate2 = ref_image2 / (n_exp * exposure.value)\n",
    "\n",
    "plt.figure(figsize=[16,6])\n",
    "plt.subplot(121)\n",
    "plt.imshow(ref_image_rate1, cmap='viridis', aspect=1, origin='lower')\n",
    "plt.colorbar()\n",
    "plt.subplot(122)\n",
    "plt.imshow(ref_image_rate2, cmap='viridis', aspect=1, origin='lower')\n",
    "plt.colorbar()"
   ]
  },
  {
   "cell_type": "code",
   "execution_count": 22,
   "metadata": {},
   "outputs": [
    {
     "data": {
      "text/plain": [
       "\"\\n# Load up a set of light curves - snatched from SNe_lightcurves_and_sensitivities\\ndist0 = 10*ur.pc\\niip_rad = np.loadtxt('input_data/IIp_radius.txt')\\niip_tef = np.loadtxt('input_data/IIp_teff.txt')\\n\\niip_lc = Table([iip_tef[:,0]*ur.s,np.zeros(len(iip_tef))*ur.ABmag,np.zeros(len(iip_tef))*ur.ABmag,np.zeros(len(iip_tef))*1/(ur.s*ur.cm**2),np.zeros(len(iip_tef))*1/(ur.s*ur.cm**2)],\\n               names=('Time', 'mag_D1', 'mag_D2', 'photflux_D1', 'photflux_D2'), meta={'name': 'SNIIp - mags and photon flux at 10pc'})\\nfor i in range(len(iip_tef)):\\n    bolflux = (iip_tef[i,1]*ur.K)**4 * const.sigma_sb.cgs * ((iip_rad[i,1]*ur.cm)/dist0.to(ur.cm))**2\\n    band1_fluence, band2_fluence = bb_abmag_fluence(bbtemp=iip_tef[i,1]*ur.K, bolflux=bolflux)\\n    band1_mag, band2_mag = bb_abmag(bbtemp=iip_tef[i,1]*ur.K, bandone=duet_band1, \\n                                  bandtwo=duet_band2, bolflux=bolflux, val=True)\\n    iip_lc[i]['mag_D1'],iip_lc[i]['mag_D2'] = band1_mag,band2_mag\\n    iip_lc[i]['photflux_D1'],iip_lc[i]['photflux_D2'] = band1_fluence.value ,band2_fluence.value\\n\\nprint(iip_lc)\\n\""
      ]
     },
     "execution_count": 22,
     "metadata": {},
     "output_type": "execute_result"
    }
   ],
   "source": [
    "# Load up SNIIp light curves\n",
    "# Red supergiant shock breakout\n",
    "\n",
    "'SNIIp_lightcurve_DUET.fits'"
   ]
  },
  {
   "cell_type": "code",
   "execution_count": null,
   "metadata": {},
   "outputs": [],
   "source": [
    "# Source lightcurve loop\n",
    "src_rate1 = trans_eff * efficiency * area * src_fluence1\n",
    "src_rate2 = trans_eff * efficiency * area * src_fluence2\n",
    "print(\"Source rate: {}, {}\".format(src_rate1,src_rate2))\n",
    "\n",
    "# Lump em together\n",
    "src_rates = np.transpose([src_rate1, src_rate2])\n",
    "\n",
    "for rate1, rate2 in src_rates:\n",
    "    # Make image\n",
    "    \n",
    "    # Perform photometry\n",
    "    \n",
    "    # Create array of measured count rate, error, signal to noise \n",
    "\n",
    "# for each magnitude plot in both bands: actual count rate line, measured count rate line and errors\n",
    "# Signal to noise"
   ]
  }
 ],
 "metadata": {
  "kernelspec": {
   "display_name": "Python 3",
   "language": "python",
   "name": "python3"
  },
  "language_info": {
   "codemirror_mode": {
    "name": "ipython",
    "version": 3
   },
   "file_extension": ".py",
   "mimetype": "text/x-python",
   "name": "python",
   "nbconvert_exporter": "python",
   "pygments_lexer": "ipython3",
   "version": "3.6.5"
  }
 },
 "nbformat": 4,
 "nbformat_minor": 2
}
