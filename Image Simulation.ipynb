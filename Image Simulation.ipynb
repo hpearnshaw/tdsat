{
 "cells": [
  {
   "cell_type": "code",
   "execution_count": 1,
   "metadata": {},
   "outputs": [
    {
     "name": "stdout",
     "output_type": "stream",
     "text": [
      "Telescope Configuration 11\n",
      "Name: Small Focal Plane CMOS\n",
      "Entrance Pupil diameter 26.0 cm\n",
      "Optical Efficiency 0.7893639053254439\n",
      "PSF FWHM 4.288 arcsec\n",
      "Pixel size 6.4 arcsec\n",
      "Effective Aperture 23.1 cm\n",
      "Effective Area 419.09631397051237 cm2\n",
      "Effective PSF FWHM 6.6623527375845235 arcsec\n"
     ]
    }
   ],
   "source": [
    "import numpy as np\n",
    "import matplotlib.pyplot as plt\n",
    "from astropy import units as ur\n",
    "from bbmag import bb_abmag_fluence\n",
    "from image_utils import construct_image\n",
    "from tdsat_sensitivity import bgd_sky_qe_rate\n",
    "from tdsat_telescope import load_telescope_parameters\n",
    "\n",
    "# Part 1, simulate observed image\n",
    "    \n",
    "# Define telescope parameters\n",
    "diameter, qe, psf_fwhm, pixel_size, efficiency = load_telescope_parameters(11)\n",
    "duet_band1 = [193,233] * ur.nm\n",
    "duet_band2 = [260,320] * ur.nm\n",
    "read_noise = 3.\n",
    "light = True\n",
    "\n",
    "point_drift = 1 * ur.arcsec # To be added to the PSF in quadrature\n",
    "point_jitter = 5 * ur.arcsec\n",
    "psf_fwhm = (psf_fwhm**2 + point_drift**2 + point_jitter**2)**0.5 # [4,6,10] * ur.arcsec  \n",
    "print('Effective PSF FWHM {}'.format(psf_fwhm))\n",
    "\n",
    "# Stuff from DUET AB Mag Limit On-Axis\n",
    "trans_eff = (0.975)**8\n",
    "area = np.pi * (diameter*0.5)**2\n",
    "area_onaxis = np.pi * (0.5*24.2*ur.cm)**2\n",
    "efficiency = area_onaxis / area\n",
    "\n",
    "# Define image simulation parameters\n",
    "exposure = 300 * ur.s\n",
    "frame = np.array((30,30)) # Dimensions of the image I'm simulating in DUET pixels (30x30 ~ 3x3 arcmin)"
   ]
  },
  {
   "cell_type": "code",
   "execution_count": 2,
   "metadata": {},
   "outputs": [
    {
     "name": "stdout",
     "output_type": "stream",
     "text": [
      "Source fluences: 0.0050895688410466855 1 / (cm2 s), 0.004801805868051518 1 / (cm2 s)\n",
      "Source rate (band 1): 1.9117827202009057 1 / s\n",
      "Sky background rate: 0.04292595884789351 1 / s\n"
     ]
    }
   ],
   "source": [
    "# Define source\n",
    "bbtemp = 20000 * ur.K\n",
    "swiftmag = 20 * ur.ABmag\n",
    "\n",
    "src_fluence1, src_fluence2 = bb_abmag_fluence(bbtemp=bbtemp, swiftmag=swiftmag, light=light)\n",
    "print(\"Source fluences: {}, {}\".format(src_fluence1,src_fluence2))\n",
    "src_rate1 = trans_eff * efficiency * area * src_fluence1\n",
    "print(\"Source rate (band 1): {}\".format(src_rate1))\n",
    "\n",
    "# Define galaxy\n",
    "#galaxy = 'spiral'\n",
    "#gal_params = None\n",
    "galaxy = 'custom'\n",
    "gal_params = {'amplitude': 0.01, 'r_eff': 20, 'n': 1, 'theta': 0, 'ellip': 0.5, 'x_0': 30, 'y_0': 0}\n",
    "\n",
    "# Define sky background rate\n",
    "sky_rate = bgd_sky_qe_rate(low_zodi=True, band=duet_band1, diameter=diameter, pixel_size=pixel_size,\\\n",
    "                           real_red=True, light=light)\n",
    "print(\"Sky background rate: {}\".format(sky_rate))"
   ]
  },
  {
   "cell_type": "code",
   "execution_count": 3,
   "metadata": {
    "scrolled": false
   },
   "outputs": [
    {
     "data": {
      "text/plain": [
       "<matplotlib.colorbar.Colorbar at 0x1c1fe301d0>"
      ]
     },
     "execution_count": 3,
     "metadata": {},
     "output_type": "execute_result"
    },
    {
     "data": {
      "image/png": "[encoded data removed]",
      "text/plain": [
       "<Figure size 432x288 with 2 Axes>"
      ]
     },
     "metadata": {},
     "output_type": "display_data"
    }
   ],
   "source": [
    "# Construct the simulated image\n",
    "image = construct_image(frame, pixel_size, exposure, psf_fwhm, read_noise, \\\n",
    "                        gal_type=galaxy, gal_params=gal_params, source=src_rate1, sky_rate=sky_rate)\n",
    "\n",
    "plt.imshow(image, cmap='viridis', aspect=1, origin='lower')\n",
    "plt.colorbar()"
   ]
  },
  {
   "cell_type": "code",
   "execution_count": 4,
   "metadata": {},
   "outputs": [
    {
     "name": "stdout",
     "output_type": "stream",
     "text": [
      "custom {'amplitude': 0.01, 'r_eff': 20, 'n': 1, 'theta': 0, 'ellip': 0.5, 'x_0': 30, 'y_0': 0}\n"
     ]
    },
    {
     "data": {
      "text/plain": [
       "<matplotlib.colorbar.Colorbar at 0x1c1fbb9048>"
      ]
     },
     "execution_count": 4,
     "metadata": {},
     "output_type": "execute_result"
    },
    {
     "data": {
      "image/png": "[encoded data removed]",
      "text/plain": [
       "<Figure size 432x288 with 2 Axes>"
      ]
     },
     "metadata": {},
     "output_type": "display_data"
    }
   ],
   "source": [
    "# Part 2, simulate reference image, without source, 5 exposures (to-do)\n",
    "\n",
    "ref_image = construct_image(frame, pixel_size, exposure, psf_fwhm, read_noise, \\\n",
    "                            gal_type=galaxy, gal_params=gal_params, source=None, sky_rate=sky_rate)\n",
    "\n",
    "plt.imshow(ref_image, cmap='viridis', aspect=1, origin='lower')\n",
    "plt.colorbar()"
   ]
  },
  {
   "cell_type": "code",
   "execution_count": 1,
   "metadata": {},
   "outputs": [],
   "source": [
    "from Difference_Imaging.diff_image import py_zogy\n",
    "\n",
    "# Part 3, take difference image (probably doesn't need its own function, most of it is in py)\n",
    "# Inputs: reference image, simulated image\n",
    "\n",
    "# Perform difference imaging\n",
    "\n",
    "# Return difference image, PSF, plot here"
   ]
  },
  {
   "cell_type": "code",
   "execution_count": 1,
   "metadata": {},
   "outputs": [],
   "source": [
    "# Part 4, photometry \n",
    "\n",
    "# Perform aperture photometry on the difference image, get flux difference and error\n",
    "\n",
    "# Perform aperture/PSF photometry on the reference image, if applicable. Otherwise get flux upper limit?\n",
    "\n",
    "# Generate a resulting flux ratio and magnitude difference\n",
    "\n",
    "# Compare the photometry results with the input parameters"
   ]
  },
  {
   "cell_type": "code",
   "execution_count": null,
   "metadata": {},
   "outputs": [],
   "source": []
  }
 ],
 "metadata": {
  "kernelspec": {
   "display_name": "Python 3",
   "language": "python",
   "name": "python3"
  },
  "language_info": {
   "codemirror_mode": {
    "name": "ipython",
    "version": 3
   },
   "file_extension": ".py",
   "mimetype": "text/x-python",
   "name": "python",
   "nbconvert_exporter": "python",
   "pygments_lexer": "ipython3",
   "version": "3.6.5"
  }
 },
 "nbformat": 4,
 "nbformat_minor": 2
}
