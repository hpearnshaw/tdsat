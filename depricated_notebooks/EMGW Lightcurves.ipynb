{
 "cells": [
  {
   "cell_type": "code",
   "execution_count": 1,
   "metadata": {
    "collapsed": false
   },
   "outputs": [],
   "source": [
    "import astropy.units as u\n",
    "from tdsat_telescope import load_telescope_parameters\n",
    "from tdsat_sensitivity import src_rate, bgd_sky_qe_rate, bgd_electronics, calc_exposure\n",
    "from tdsat_neff import get_neff\n",
    "from bbmag import bb_abmag_fluence, bb_abmag\n",
    "import numpy as np\n",
    "from matplotlib import pyplot as plt\n",
    "\n",
    "from astropy.coordinates import Distance\n",
    "\n",
    "\n",
    "from astropy.visualization import quantity_support\n",
    "import matplotlib\n",
    "font = {'family' : 'normal',\n",
    "        'weight' : 'bold',\n",
    "        'size'   : 22}\n",
    "\n",
    "matplotlib.rc('font', **font)"
   ]
  },
  {
   "cell_type": "code",
   "execution_count": 2,
   "metadata": {
    "collapsed": false
   },
   "outputs": [
    {
     "name": "stdout",
     "output_type": "stream",
     "text": [
      "Transmission efficiency: 0.8166518036622619\n"
     ]
    }
   ],
   "source": [
    "siglimit = 10. # sigma\n",
    "read_noise = 3.*(2**0.5) # Read noise for two frames\n",
    "\n",
    "# Target value\n",
    "AB = 22*u.ABmag\n",
    "\n",
    "point_drift = 1*u.arcsec # To be added to the PSF in quadrature\n",
    "point_jitter = 5*u.arcsec\n",
    "# Define bands\n",
    "td1_band = [193, 233]*u.nm\n",
    "\n",
    "\n",
    "# Transmission efficiency\n",
    "trans_eff = (0.975)**8 # from Jim. \n",
    "\n",
    "print('Transmission efficiency: {}'.format(trans_eff))\n",
    "\n",
    "ab_vega = 1.73\n",
    "\n",
    "# Load Tony's lightcurves\n",
    "shock = np.loadtxt('input_data/shock.dat')\n",
    "blukn = np.loadtxt('input_data/kilonova_blue.dat')\n",
    "\n",
    "\n",
    "center = 208\n",
    "width = 53\n",
    "\n",
    "bandone=[center - 0.5*width, center+0.5*width]*u.nm\n",
    "\n",
    "\n",
    "center = 284\n",
    "width = 68\n",
    "bandtwo=[center - 0.5*width, center+0.5*width]*u.nm\n",
    "\n",
    "\n",
    "\n"
   ]
  },
  {
   "cell_type": "code",
   "execution_count": 3,
   "metadata": {
    "collapsed": false
   },
   "outputs": [
    {
     "name": "stdout",
     "output_type": "stream",
     "text": [
      "Telescope Configuration 11\n",
      "Name: Small Focal Plane CMOS\n",
      "Entrance Pupil diameter 26.0 cm\n",
      "Optical Efficiency 0.7893639053254439\n",
      "PSF FWHM 4.288 arcsec\n",
      "Pixel size 6.4 arcsec\n",
      "Effective Aperture 23.1 cm\n",
      "Effective Area 419.09631397051237 cm2\n"
     ]
    }
   ],
   "source": [
    "# Load telescope info\n",
    "config=11\n",
    "diameter, qe, psf_size, pixel_size, efficiency = load_telescope_parameters(config)\n",
    "area = np.pi * (diameter*0.5)**2\n",
    "\n",
    "area_onaxis = np.pi * (0.5*24.2*u.cm)**2\n",
    "efficiency = area_onaxis / area\n"
   ]
  },
  {
   "cell_type": "code",
   "execution_count": 4,
   "metadata": {
    "collapsed": false
   },
   "outputs": [],
   "source": [
    "# First, get absolute mags in-band\n",
    "dist = 10*u.pc\n",
    "\n",
    "\n",
    "all_mag1 = []\n",
    "all_mag2 = []\n",
    "all_sw = []\n",
    "\n",
    "all_time = blukn[:, 0]*u.d\n",
    "for row in blukn:\n",
    "    thismag = (row[16]+ab_vega)*u.ABmag\n",
    "    swiftmag = thismag\n",
    "    bbtemp = row[4]*u.K\n",
    "    peaktime = row[0]\n",
    "\n",
    "    band1_mag, band2_mag = bb_abmag(dist = dist,\n",
    "                                    bbtemp = bbtemp,\n",
    "                                    swiftmag = swiftmag,\n",
    "                                    diag=False, bandone=bandone, bandtwo=bandtwo)\n",
    "    \n",
    "    all_mag1 = np.append(all_mag1, band1_mag)\n",
    "    all_mag2 = np.append(all_mag2, band2_mag)\n",
    "    all_sw = np.append(all_sw, swiftmag)\n",
    "\n",
    "color_kn = all_mag2.value - all_mag1.value\n",
    "time_kn = all_time"
   ]
  },
  {
   "cell_type": "code",
   "execution_count": 5,
   "metadata": {
    "collapsed": false
   },
   "outputs": [
    {
     "name": "stderr",
     "output_type": "stream",
     "text": [
      "/Users/bwgref/science/local/anaconda/envs/nickenv/lib/python3.7/site-packages/matplotlib/font_manager.py:1241: UserWarning: findfont: Font family ['normal'] not found. Falling back to DejaVu Sans.\n",
      "  (prop.get_family(), self.defaultFamily[fontext]))\n"
     ]
    },
    {
     "data": {
      "image/png": "[encoded data removed]",
      "text/plain": [
       "<Figure size 864x576 with 1 Axes>"
      ]
     },
     "metadata": {
      "needs_background": "light"
     },
     "output_type": "display_data"
    }
   ],
   "source": [
    "with quantity_support():\n",
    "    plt.figure(figsize=[12, 8])\n",
    "\n",
    "    plt.scatter(all_time.to(u.hr), all_mag1.value, label='DUET 1')\n",
    "    plt.scatter(all_time.to(u.hr), all_mag2.value, label='DUET 2')\n",
    "    plt.scatter(all_time.to(u.hr), all_sw.value, label='UVW2')\n",
    "    \n",
    "    plt.title('Blue Kilonova at {}'.format(dist))\n",
    "\n",
    "    plt.ylim([-12, -16])\n",
    "    plt.xlim([1.5, 24])\n",
    "    plt.xscale('Log')\n",
    "\n",
    "    plt.ylabel('Absolute Magnitude (AB)')\n",
    "    plt.xlabel('Hours')\n",
    "    plt.legend()\n",
    "    plt.show()"
   ]
  },
  {
   "cell_type": "code",
   "execution_count": 6,
   "metadata": {
    "collapsed": false
   },
   "outputs": [
    {
     "name": "stdout",
     "output_type": "stream",
     "text": [
      "Blue Kilonova peak luminosity in DUET1 22.215190243431472 mag(AB)\n",
      "Blue Kilonova peak luminosity in DUET2 21.215190243431472 mag(AB)\n"
     ]
    }
   ],
   "source": [
    "# For ALIGO BNS Range\n",
    "r = 175 * u.Mpc\n",
    "d = Distance(r)\n",
    "\n",
    "peak_abs_mag = -14 * u.ABmag\n",
    "peak_apparent_mag = peak_abs_mag + d.distmod\n",
    "print('Blue Kilonova peak luminosity in DUET1 {}'.format(peak_apparent_mag))\n",
    "\n",
    "peak_abs_mag = -15 * u.ABmag\n",
    "peak_apparent_mag = peak_abs_mag + d.distmod\n",
    "print('Blue Kilonova peak luminosity in DUET2 {}'.format(peak_apparent_mag))\n"
   ]
  },
  {
   "cell_type": "code",
   "execution_count": 7,
   "metadata": {
    "collapsed": false
   },
   "outputs": [
    {
     "name": "stdout",
     "output_type": "stream",
     "text": [
      "Blue Kilonova peak luminosity in DUET1 23.491552768948004 mag(AB)\n",
      "Blue Kilonova peak luminosity in DUET2 22.491552768948004 mag(AB)\n"
     ]
    }
   ],
   "source": [
    "# FOR A+ BNS Range:\n",
    "r = 315 * u.Mpc\n",
    "d = Distance(r)\n",
    "\n",
    "peak_abs_mag = -14 * u.ABmag\n",
    "peak_apparent_mag = peak_abs_mag + d.distmod\n",
    "print('Blue Kilonova peak luminosity in DUET1 {}'.format(peak_apparent_mag))\n",
    "\n",
    "\n",
    "peak_abs_mag = -15 * u.ABmag\n",
    "peak_apparent_mag = peak_abs_mag + d.distmod\n",
    "print('Blue Kilonova peak luminosity in DUET2 {}'.format(peak_apparent_mag))\n",
    "\n"
   ]
  },
  {
   "cell_type": "code",
   "execution_count": 8,
   "metadata": {
    "collapsed": false
   },
   "outputs": [],
   "source": [
    "dist = 10*u.pc\n",
    "ab_vega = 1.73\n",
    "\n",
    "# Load Tony's lightcurves\n",
    "blukn = np.loadtxt('input_data/kilonova_blue.dat')\n",
    "\n",
    "\n",
    "# First, get absolute mags in-band\n",
    "dist = 10*u.pc\n",
    "\n",
    "\n",
    "all_mag1 = []\n",
    "all_mag2 = []\n",
    "all_sw = []\n",
    "all_time = shock[:, 1]*u.d\n",
    "for row in shock:\n",
    "    thismag = (row[14]+ab_vega)*u.ABmag\n",
    "    swiftmag = thismag\n",
    "    bbtemp = row[3]*u.K\n",
    "\n",
    "    band1_mag, band2_mag = bb_abmag(dist = dist,\n",
    "                                    bbtemp = bbtemp,\n",
    "                                    swiftmag = swiftmag,\n",
    "                                    diag=False, bandone=bandone, bandtwo=bandtwo)\n",
    "    \n",
    "    all_mag1 = np.append(all_mag1, band1_mag)\n",
    "    all_mag2 = np.append(all_mag2, band2_mag)\n",
    "    all_sw = np.append(all_sw, swiftmag)\n",
    "\n",
    "\n",
    "color_shock = all_mag2.value - all_mag1.value\n",
    "time_shock = all_time\n"
   ]
  },
  {
   "cell_type": "code",
   "execution_count": 9,
   "metadata": {
    "collapsed": false
   },
   "outputs": [
    {
     "data": {
      "image/png": "[encoded data removed]",
      "text/plain": [
       "<Figure size 864x576 with 1 Axes>"
      ]
     },
     "metadata": {
      "needs_background": "light"
     },
     "output_type": "display_data"
    }
   ],
   "source": [
    "with quantity_support():\n",
    "    plt.figure(figsize=[12, 8])\n",
    "\n",
    "    plt.scatter(all_time.to(u.hr), all_mag1.value, label='DUET 1')\n",
    "    plt.scatter(all_time.to(u.hr), all_mag2.value, label='DUET 2')\n",
    "    plt.scatter(all_time.to(u.hr), all_sw.value, label='UVW2')\n",
    "    \n",
    "    plt.title('Shock at {}'.format(dist))\n",
    "\n",
    "    plt.ylim([-12, -18])\n",
    "    plt.xlim([1.5, 24])\n",
    "    plt.xscale('Log')\n",
    "\n",
    "    plt.ylabel('Absolute Magnitude (AB)')\n",
    "    plt.xlabel('Hours')\n",
    "    plt.legend()\n",
    "    plt.show()"
   ]
  },
  {
   "cell_type": "code",
   "execution_count": 10,
   "metadata": {
    "collapsed": false
   },
   "outputs": [
    {
     "name": "stdout",
     "output_type": "stream",
     "text": [
      "Shock at peak luminosity in DUET1 19.715190243431472 mag(AB)\n",
      "Shock at peak luminosity in DUET2 20.015190243431473 mag(AB)\n"
     ]
    }
   ],
   "source": [
    "# For ALIGO BNS Range\n",
    "r = 175 * u.Mpc\n",
    "d = Distance(r)\n",
    "\n",
    "peak_abs_mag = -16.5 * u.ABmag\n",
    "peak_apparent_mag = peak_abs_mag + d.distmod\n",
    "print('Shock at peak luminosity in DUET1 {}'.format(peak_apparent_mag))\n",
    "\n",
    "peak_abs_mag = -16.2 * u.ABmag\n",
    "peak_apparent_mag = peak_abs_mag + d.distmod\n",
    "print('Shock at peak luminosity in DUET2 {}'.format(peak_apparent_mag))\n",
    "\n"
   ]
  },
  {
   "cell_type": "code",
   "execution_count": 11,
   "metadata": {
    "collapsed": false
   },
   "outputs": [
    {
     "name": "stdout",
     "output_type": "stream",
     "text": [
      "Shock at peak luminosity in DUET1 20.991552768948004 mag(AB)\n",
      "Shock at peak luminosity in DUET2 21.291552768948005 mag(AB)\n"
     ]
    }
   ],
   "source": [
    "# For A+ BNS Range\n",
    "r = 315 * u.Mpc\n",
    "d = Distance(r)\n",
    "\n",
    "peak_abs_mag = -16.5 * u.ABmag\n",
    "peak_apparent_mag = peak_abs_mag + d.distmod\n",
    "print('Shock at peak luminosity in DUET1 {}'.format(peak_apparent_mag))\n",
    "\n",
    "peak_abs_mag = -16.2 * u.ABmag\n",
    "peak_apparent_mag = peak_abs_mag + d.distmod\n",
    "print('Shock at peak luminosity in DUET2 {}'.format(peak_apparent_mag))\n",
    "\n"
   ]
  },
  {
   "cell_type": "code",
   "execution_count": 14,
   "metadata": {
    "collapsed": false
   },
   "outputs": [
    {
     "data": {
      "image/png": "[encoded data removed]",
      "text/plain": [
       "<Figure size 864x576 with 1 Axes>"
      ]
     },
     "metadata": {
      "needs_background": "light"
     },
     "output_type": "display_data"
    }
   ],
   "source": [
    "with quantity_support():\n",
    "    plt.figure(figsize=[12, 8])\n",
    "\n",
    "    plt.scatter(time_kn.to(u.hr), color_kn, label='Kilonova')\n",
    "    plt.scatter(time_shock.to(u.hr), color_shock, label='Shock')\n",
    "    \n",
    "\n",
    "    plt.ylim([-2, 1])\n",
    "    plt.xlim([1.5, 24])\n",
    "    plt.xscale('Log')\n",
    "\n",
    "    plt.ylabel('DUET2 - DUET1')\n",
    "    plt.xlabel('Hours')\n",
    "    plt.legend()\n",
    "    plt.show()"
   ]
  },
  {
   "cell_type": "code",
   "execution_count": null,
   "metadata": {
    "collapsed": true
   },
   "outputs": [],
   "source": []
  }
 ],
 "metadata": {
  "anaconda-cloud": {},
  "kernelspec": {
   "display_name": "Python [conda env:nickenv]",
   "language": "python",
   "name": "conda-env-nickenv-py"
  },
  "language_info": {
   "codemirror_mode": {
    "name": "ipython",
    "version": 3
   },
   "file_extension": ".py",
   "mimetype": "text/x-python",
   "name": "python",
   "nbconvert_exporter": "python",
   "pygments_lexer": "ipython3",
   "version": "3.7.2"
  }
 },
 "nbformat": 4,
 "nbformat_minor": 2
}
